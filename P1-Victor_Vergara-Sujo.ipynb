{
 "cells": [
  {
   "cell_type": "markdown",
   "metadata": {},
   "source": [
    "# Projeto 1 - Ciência dos Dados"
   ]
  },
  {
   "cell_type": "markdown",
   "metadata": {},
   "source": [
    "Por Victor Vergara Arcoverde de Albuquerque Cavalcanti"
   ]
  },
  {
   "cell_type": "markdown",
   "metadata": {},
   "source": [
    "## Pergunta "
   ]
  },
  {
   "cell_type": "markdown",
   "metadata": {},
   "source": [
    "**Países que se juntam a OTAN  aumentam sua participação no mercado mundial de armas?**"
   ]
  },
  {
   "cell_type": "markdown",
   "metadata": {},
   "source": [
    "## Hipótese"
   ]
  },
  {
   "cell_type": "markdown",
   "metadata": {},
   "source": [
    "A OTAN (Organização do Tratado do Atlântico Norte) promove o contato militar e político entre os seus membros, tendo como seus dois dos seus princípios principais a  proteção mútua e luta contra o terrorismo, mas por não ter um \"standing army\", ela depende dos exércitos de seus membros para realizar as sua operações. Assim a Organização obriga que o exécito de seus membros sejam bem equipados e modernizados, causando uma grande rotação de equipamentos e armamentos desses exécitos, e levando em conta que 7 dos 10 maiores exportadores de armas e equipamentos militares do planeta são membros da OTAN é razoável esperar que países da OTAN prefiram comprar de outros países membros ou seus aliados próximos que outros países. \n",
    "\n",
    "**Obs: Alguns links para os dados citados acima.**\n",
    "\n",
    " [Objetivos da OTAN.](:https://www.nato.int/cps/en/natohq/126169.html)\n",
    "\n",
    " [Ranking de exportação de equipamentos e armamentos militares.](:https://www.businessinsider.com/top-countries-exporting-weapons-arms-sales-2018-3#10-netherlands-1)\n",
    "\n",
    "[Artigo que suporta a hipôtese apresentada](:https://www.voanews.com/europe/nato-defense-buildup-us-weapons-makers-could-benefit)\n"
   ]
  },
  {
   "cell_type": "markdown",
   "metadata": {},
   "source": [
    "## Mecanismo\n"
   ]
  },
  {
   "cell_type": "markdown",
   "metadata": {},
   "source": [
    "Para responder a pergunta será estudado os dados de importação e exportação de armamentos e equipamentos militares de alguns países que entraram na OTAN em 2004 antes e depois de se tornarem membros e alguns outros países como controle nos mesmos anos. Com os dados obtidos na análise será possível compará-los com a finalidade de descobrir caso eles tenham um comportamento parecido, ou se o fato de terem entrado na OTAN causou alguma mudança na importação e exportação de armamentos e equipamentos militares. "
   ]
  },
  {
   "cell_type": "markdown",
   "metadata": {},
   "source": [
    "## Bases de dados usadas"
   ]
  },
  {
   "cell_type": "markdown",
   "metadata": {},
   "source": [
    "Os dados utilizados foram coletados do World Data Bank\n",
    "\n",
    "Impotação de armamentos e equipamentos militares [World Bank (Importação)](:https://data.worldbank.org/indicator/MS.MIL.MPRT.KD)\n",
    "\n",
    "Exportação de armamentos e equipamentos militares [World Bank (Exportação)](:https://data.worldbank.org/indicator/MS.MIL.XPRT.KD)"
   ]
  },
  {
   "cell_type": "code",
   "execution_count": 2,
   "metadata": {},
   "outputs": [],
   "source": [
    "%matplotlib inline\n",
    "import pandas as pd\n",
    "import matplotlib.pyplot as plt\n",
    "import os\n",
    "from numpy import arange\n",
    "from numpy import percentile\n",
    "import numpy as np\n",
    "plt.style.use(\"ggplot\")"
   ]
  },
  {
   "cell_type": "code",
   "execution_count": 3,
   "metadata": {},
   "outputs": [],
   "source": [
    "\n",
    "expor = pd.read_excel(\"Arms_exports.xlsx\")\n",
    "impor = pd.read_excel(\"Arms_imports.xlsx\")\n",
    "membros = pd.read_excel(\"NATO_members.xlsx\")"
   ]
  },
  {
   "cell_type": "markdown",
   "metadata": {},
   "source": [
    "### Preparação dos dados"
   ]
  },
  {
   "cell_type": "code",
   "execution_count": 4,
   "metadata": {},
   "outputs": [],
   "source": [
    "impor = impor.set_index('country')\n",
    "expor = expor.set_index('country')\n",
    "data = impor.join(expor, how='inner', lsuffix='_im', rsuffix='_ex')\n",
    "\n",
    "membros=['Belgium',\"Bulgaria\",\"Canada\",\"Croatia\" \"Czech Republic\", \"Denmark\",\"Estonia\",\"France\",\n",
    "         \"Germany\", \"Greece\",\"Hungary\",\"Iceland\", \"Italy\",\"Latvia\",\"Lithuania\",\"Netherlands\",\n",
    "         \"Norway\",\"Portugal\",\"Romania\",\"Slovak Republic\",\"Spain\",\"Turkey\",\"United Kingdom\",\n",
    "         \"United States\"]"
   ]
  },
  {
   "cell_type": "code",
   "execution_count": 5,
   "metadata": {},
   "outputs": [],
   "source": [
    "\n",
    "lista_ex=[]\n",
    "for a in expor.index:\n",
    "    if a in membros:\n",
    "        lista_ex.append(True)\n",
    "    else:\n",
    "        lista_ex.append(False)\n",
    "        \n",
    "expor[\"OTAN\"]=lista_ex\n",
    "\n",
    "lista_im=[]\n",
    "for a in impor.index:\n",
    "    if a in membros:\n",
    "        lista_im.append(True)\n",
    "    else:\n",
    "        lista_im.append(False)\n",
    "\n",
    "impor[\"OTAN\"]=lista_im\n",
    "\n",
    "lista_data=[]\n",
    "for a in data.index:\n",
    "    if a in membros:\n",
    "        lista_data.append(True)\n",
    "    else:\n",
    "        lista_data.append(False)\n",
    "data[\"OTAN\"]=lista_data\n",
    "\n",
    "expor_n_membros= expor.loc[(expor.OTAN==False),:]\n",
    "expor_membros= expor.loc[(expor.OTAN==True),:]\n",
    "impor_n_membros= impor.loc[(impor.OTAN==False), :]\n",
    "impor_membros= impor.loc[(impor.OTAN==True), :]\n"
   ]
  },
  {
   "cell_type": "code",
   "execution_count": 6,
   "metadata": {},
   "outputs": [
    {
     "data": {
      "text/html": [
       "<div>\n",
       "<style scoped>\n",
       "    .dataframe tbody tr th:only-of-type {\n",
       "        vertical-align: middle;\n",
       "    }\n",
       "\n",
       "    .dataframe tbody tr th {\n",
       "        vertical-align: top;\n",
       "    }\n",
       "\n",
       "    .dataframe thead th {\n",
       "        text-align: right;\n",
       "    }\n",
       "</style>\n",
       "<table border=\"1\" class=\"dataframe\">\n",
       "  <thead>\n",
       "    <tr style=\"text-align: right;\">\n",
       "      <th></th>\n",
       "      <th>2001</th>\n",
       "      <th>2002</th>\n",
       "      <th>2003</th>\n",
       "      <th>2004</th>\n",
       "      <th>2005</th>\n",
       "      <th>2006</th>\n",
       "      <th>2007</th>\n",
       "    </tr>\n",
       "    <tr>\n",
       "      <th>country</th>\n",
       "      <th></th>\n",
       "      <th></th>\n",
       "      <th></th>\n",
       "      <th></th>\n",
       "      <th></th>\n",
       "      <th></th>\n",
       "      <th></th>\n",
       "    </tr>\n",
       "  </thead>\n",
       "  <tbody>\n",
       "    <tr>\n",
       "      <th>Bulgaria</th>\n",
       "      <td>10000000.0</td>\n",
       "      <td>32000000.0</td>\n",
       "      <td>44000000.0</td>\n",
       "      <td>19000000.0</td>\n",
       "      <td>86000000.0</td>\n",
       "      <td>5000000.0</td>\n",
       "      <td>9000000.0</td>\n",
       "    </tr>\n",
       "    <tr>\n",
       "      <th>Czech Republic</th>\n",
       "      <td>88000000.0</td>\n",
       "      <td>60000000.0</td>\n",
       "      <td>64000000.0</td>\n",
       "      <td>1000000.0</td>\n",
       "      <td>70000000.0</td>\n",
       "      <td>44000000.0</td>\n",
       "      <td>32000000.0</td>\n",
       "    </tr>\n",
       "    <tr>\n",
       "      <th>Estonia</th>\n",
       "      <td>NaN</td>\n",
       "      <td>NaN</td>\n",
       "      <td>NaN</td>\n",
       "      <td>NaN</td>\n",
       "      <td>NaN</td>\n",
       "      <td>NaN</td>\n",
       "      <td>NaN</td>\n",
       "    </tr>\n",
       "    <tr>\n",
       "      <th>Hungary</th>\n",
       "      <td>NaN</td>\n",
       "      <td>34000000.0</td>\n",
       "      <td>NaN</td>\n",
       "      <td>NaN</td>\n",
       "      <td>82000000.0</td>\n",
       "      <td>NaN</td>\n",
       "      <td>9000000.0</td>\n",
       "    </tr>\n",
       "    <tr>\n",
       "      <th>Latvia</th>\n",
       "      <td>NaN</td>\n",
       "      <td>NaN</td>\n",
       "      <td>NaN</td>\n",
       "      <td>NaN</td>\n",
       "      <td>NaN</td>\n",
       "      <td>NaN</td>\n",
       "      <td>NaN</td>\n",
       "    </tr>\n",
       "    <tr>\n",
       "      <th>Lithuania</th>\n",
       "      <td>NaN</td>\n",
       "      <td>3000000.0</td>\n",
       "      <td>NaN</td>\n",
       "      <td>NaN</td>\n",
       "      <td>NaN</td>\n",
       "      <td>NaN</td>\n",
       "      <td>NaN</td>\n",
       "    </tr>\n",
       "    <tr>\n",
       "      <th>Romania</th>\n",
       "      <td>NaN</td>\n",
       "      <td>NaN</td>\n",
       "      <td>24000000.0</td>\n",
       "      <td>NaN</td>\n",
       "      <td>3000000.0</td>\n",
       "      <td>8000000.0</td>\n",
       "      <td>32000000.0</td>\n",
       "    </tr>\n",
       "    <tr>\n",
       "      <th>Slovak Republic</th>\n",
       "      <td>53000000.0</td>\n",
       "      <td>32000000.0</td>\n",
       "      <td>NaN</td>\n",
       "      <td>46000000.0</td>\n",
       "      <td>NaN</td>\n",
       "      <td>7000000.0</td>\n",
       "      <td>22000000.0</td>\n",
       "    </tr>\n",
       "  </tbody>\n",
       "</table>\n",
       "</div>"
      ],
      "text/plain": [
       "                       2001        2002        2003        2004        2005  \\\n",
       "country                                                                       \n",
       "Bulgaria         10000000.0  32000000.0  44000000.0  19000000.0  86000000.0   \n",
       "Czech Republic   88000000.0  60000000.0  64000000.0   1000000.0  70000000.0   \n",
       "Estonia                 NaN         NaN         NaN         NaN         NaN   \n",
       "Hungary                 NaN  34000000.0         NaN         NaN  82000000.0   \n",
       "Latvia                  NaN         NaN         NaN         NaN         NaN   \n",
       "Lithuania               NaN   3000000.0         NaN         NaN         NaN   \n",
       "Romania                 NaN         NaN  24000000.0         NaN   3000000.0   \n",
       "Slovak Republic  53000000.0  32000000.0         NaN  46000000.0         NaN   \n",
       "\n",
       "                       2006        2007  \n",
       "country                                  \n",
       "Bulgaria          5000000.0   9000000.0  \n",
       "Czech Republic   44000000.0  32000000.0  \n",
       "Estonia                 NaN         NaN  \n",
       "Hungary                 NaN   9000000.0  \n",
       "Latvia                  NaN         NaN  \n",
       "Lithuania               NaN         NaN  \n",
       "Romania           8000000.0  32000000.0  \n",
       "Slovak Republic   7000000.0  22000000.0  "
      ]
     },
     "execution_count": 6,
     "metadata": {},
     "output_type": "execute_result"
    }
   ],
   "source": [
    "#Dara frame com apenas os membros que entraram em 2004\n",
    "expor_membros_janela=expor.loc[[\"Bulgaria\", \"Czech Republic\",\"Estonia\", \"Hungary\",\"Latvia\",\n",
    "                                \"Lithuania\",\"Romania\",\"Slovak Republic\"],:]\n",
    "expor_membros_janela_2004= expor_membros_janela.loc[:, [2001,2002,2003,2004,2005,2006,2007]]\n",
    "expor_membros_janela_2004"
   ]
  },
  {
   "cell_type": "code",
   "execution_count": 7,
   "metadata": {},
   "outputs": [
    {
     "data": {
      "text/html": [
       "<div>\n",
       "<style scoped>\n",
       "    .dataframe tbody tr th:only-of-type {\n",
       "        vertical-align: middle;\n",
       "    }\n",
       "\n",
       "    .dataframe tbody tr th {\n",
       "        vertical-align: top;\n",
       "    }\n",
       "\n",
       "    .dataframe thead th {\n",
       "        text-align: right;\n",
       "    }\n",
       "</style>\n",
       "<table border=\"1\" class=\"dataframe\">\n",
       "  <thead>\n",
       "    <tr style=\"text-align: right;\">\n",
       "      <th></th>\n",
       "      <th>2001</th>\n",
       "      <th>2002</th>\n",
       "      <th>2003</th>\n",
       "      <th>2004</th>\n",
       "      <th>2005</th>\n",
       "      <th>2006</th>\n",
       "      <th>2007</th>\n",
       "    </tr>\n",
       "    <tr>\n",
       "      <th>country</th>\n",
       "      <th></th>\n",
       "      <th></th>\n",
       "      <th></th>\n",
       "      <th></th>\n",
       "      <th></th>\n",
       "      <th></th>\n",
       "      <th></th>\n",
       "    </tr>\n",
       "  </thead>\n",
       "  <tbody>\n",
       "    <tr>\n",
       "      <th>Bulgaria</th>\n",
       "      <td>NaN</td>\n",
       "      <td>NaN</td>\n",
       "      <td>2000000.0</td>\n",
       "      <td>12000000.0</td>\n",
       "      <td>132000000.0</td>\n",
       "      <td>22000000.0</td>\n",
       "      <td>48000000.0</td>\n",
       "    </tr>\n",
       "    <tr>\n",
       "      <th>Czech Republic</th>\n",
       "      <td>65000000.0</td>\n",
       "      <td>48000000.0</td>\n",
       "      <td>97000000.0</td>\n",
       "      <td>7000000.0</td>\n",
       "      <td>594000000.0</td>\n",
       "      <td>45000000.0</td>\n",
       "      <td>10000000.0</td>\n",
       "    </tr>\n",
       "    <tr>\n",
       "      <th>Estonia</th>\n",
       "      <td>NaN</td>\n",
       "      <td>1000000.0</td>\n",
       "      <td>13000000.0</td>\n",
       "      <td>8000000.0</td>\n",
       "      <td>20000000.0</td>\n",
       "      <td>7000000.0</td>\n",
       "      <td>19000000.0</td>\n",
       "    </tr>\n",
       "    <tr>\n",
       "      <th>Hungary</th>\n",
       "      <td>14000000.0</td>\n",
       "      <td>NaN</td>\n",
       "      <td>NaN</td>\n",
       "      <td>72000000.0</td>\n",
       "      <td>13000000.0</td>\n",
       "      <td>253000000.0</td>\n",
       "      <td>196000000.0</td>\n",
       "    </tr>\n",
       "    <tr>\n",
       "      <th>Latvia</th>\n",
       "      <td>13000000.0</td>\n",
       "      <td>3000000.0</td>\n",
       "      <td>25000000.0</td>\n",
       "      <td>12000000.0</td>\n",
       "      <td>4000000.0</td>\n",
       "      <td>9000000.0</td>\n",
       "      <td>51000000.0</td>\n",
       "    </tr>\n",
       "    <tr>\n",
       "      <th>Lithuania</th>\n",
       "      <td>16000000.0</td>\n",
       "      <td>12000000.0</td>\n",
       "      <td>1000000.0</td>\n",
       "      <td>47000000.0</td>\n",
       "      <td>9000000.0</td>\n",
       "      <td>52000000.0</td>\n",
       "      <td>4000000.0</td>\n",
       "    </tr>\n",
       "    <tr>\n",
       "      <th>Romania</th>\n",
       "      <td>19000000.0</td>\n",
       "      <td>16000000.0</td>\n",
       "      <td>17000000.0</td>\n",
       "      <td>285000000.0</td>\n",
       "      <td>437000000.0</td>\n",
       "      <td>61000000.0</td>\n",
       "      <td>98000000.0</td>\n",
       "    </tr>\n",
       "    <tr>\n",
       "      <th>Slovak Republic</th>\n",
       "      <td>NaN</td>\n",
       "      <td>27000000.0</td>\n",
       "      <td>NaN</td>\n",
       "      <td>NaN</td>\n",
       "      <td>4000000.0</td>\n",
       "      <td>NaN</td>\n",
       "      <td>NaN</td>\n",
       "    </tr>\n",
       "  </tbody>\n",
       "</table>\n",
       "</div>"
      ],
      "text/plain": [
       "                       2001        2002        2003         2004         2005  \\\n",
       "country                                                                         \n",
       "Bulgaria                NaN         NaN   2000000.0   12000000.0  132000000.0   \n",
       "Czech Republic   65000000.0  48000000.0  97000000.0    7000000.0  594000000.0   \n",
       "Estonia                 NaN   1000000.0  13000000.0    8000000.0   20000000.0   \n",
       "Hungary          14000000.0         NaN         NaN   72000000.0   13000000.0   \n",
       "Latvia           13000000.0   3000000.0  25000000.0   12000000.0    4000000.0   \n",
       "Lithuania        16000000.0  12000000.0   1000000.0   47000000.0    9000000.0   \n",
       "Romania          19000000.0  16000000.0  17000000.0  285000000.0  437000000.0   \n",
       "Slovak Republic         NaN  27000000.0         NaN          NaN    4000000.0   \n",
       "\n",
       "                        2006         2007  \n",
       "country                                    \n",
       "Bulgaria          22000000.0   48000000.0  \n",
       "Czech Republic    45000000.0   10000000.0  \n",
       "Estonia            7000000.0   19000000.0  \n",
       "Hungary          253000000.0  196000000.0  \n",
       "Latvia             9000000.0   51000000.0  \n",
       "Lithuania         52000000.0    4000000.0  \n",
       "Romania           61000000.0   98000000.0  \n",
       "Slovak Republic          NaN          NaN  "
      ]
     },
     "execution_count": 7,
     "metadata": {},
     "output_type": "execute_result"
    }
   ],
   "source": [
    "impor_membros_janela=impor.loc[[\"Bulgaria\", \"Czech Republic\",\"Estonia\", \"Hungary\",\"Latvia\",\n",
    "                                \"Lithuania\",\"Romania\",\"Slovak Republic\"],:]\n",
    "impor_membros_janela_2004= impor_membros_janela.loc[:, [2001,2002,2003,2004,2005,2006,2007]]\n",
    "impor_membros_janela_2004"
   ]
  },
  {
   "cell_type": "code",
   "execution_count": null,
   "metadata": {},
   "outputs": [],
   "source": []
  },
  {
   "cell_type": "code",
   "execution_count": 8,
   "metadata": {},
   "outputs": [],
   "source": [
    "data_ex_membros=expor_membros_janela_2004.loc[[\"Czech Republic\",\"Bulgaria\",\"Romania\",],[2003,2005,2007]]\n",
    "data_im_membros=impor_membros_janela_2004.loc[[\"Czech Republic\",\"Bulgaria\",\"Romania\",],[2003,2005,2007]]\n",
    "\n",
    "data_membros = data_ex_membros.join(data_im_membros, how='inner', rsuffix='_im', lsuffix='_ex')\n",
    "\n",
    "lista_controle=['Finland','Switzerland','Sweden']\n",
    "\n",
    "data_im_controle= impor_n_membros.loc[['Finland','Switzerland','Sweden'],[2003,2005,2007]]\n",
    "data_ex_controle= expor_n_membros.loc[['Finland','Switzerland','Sweden'],[2003,2005,2007]]\n",
    "\n",
    "\n",
    "data_controle = data_ex_controle.join(data_im_controle, how='inner', rsuffix='_im', lsuffix='_ex')\n",
    "\n"
   ]
  },
  {
   "cell_type": "markdown",
   "metadata": {},
   "source": [
    "\n",
    "## Análise de dados"
   ]
  },
  {
   "cell_type": "code",
   "execution_count": 9,
   "metadata": {},
   "outputs": [
    {
     "data": {
      "text/html": [
       "<div>\n",
       "<style scoped>\n",
       "    .dataframe tbody tr th:only-of-type {\n",
       "        vertical-align: middle;\n",
       "    }\n",
       "\n",
       "    .dataframe tbody tr th {\n",
       "        vertical-align: top;\n",
       "    }\n",
       "\n",
       "    .dataframe thead th {\n",
       "        text-align: right;\n",
       "    }\n",
       "</style>\n",
       "<table border=\"1\" class=\"dataframe\">\n",
       "  <thead>\n",
       "    <tr style=\"text-align: right;\">\n",
       "      <th></th>\n",
       "      <th>2003_ex</th>\n",
       "      <th>2005_ex</th>\n",
       "      <th>2007_ex</th>\n",
       "      <th>2003_im</th>\n",
       "      <th>2005_im</th>\n",
       "      <th>2007_im</th>\n",
       "    </tr>\n",
       "    <tr>\n",
       "      <th>country</th>\n",
       "      <th></th>\n",
       "      <th></th>\n",
       "      <th></th>\n",
       "      <th></th>\n",
       "      <th></th>\n",
       "      <th></th>\n",
       "    </tr>\n",
       "  </thead>\n",
       "  <tbody>\n",
       "    <tr>\n",
       "      <th>Czech Republic</th>\n",
       "      <td>64000000.0</td>\n",
       "      <td>70000000.0</td>\n",
       "      <td>32000000.0</td>\n",
       "      <td>97000000.0</td>\n",
       "      <td>594000000.0</td>\n",
       "      <td>10000000.0</td>\n",
       "    </tr>\n",
       "    <tr>\n",
       "      <th>Bulgaria</th>\n",
       "      <td>44000000.0</td>\n",
       "      <td>86000000.0</td>\n",
       "      <td>9000000.0</td>\n",
       "      <td>2000000.0</td>\n",
       "      <td>132000000.0</td>\n",
       "      <td>48000000.0</td>\n",
       "    </tr>\n",
       "    <tr>\n",
       "      <th>Romania</th>\n",
       "      <td>24000000.0</td>\n",
       "      <td>3000000.0</td>\n",
       "      <td>32000000.0</td>\n",
       "      <td>17000000.0</td>\n",
       "      <td>437000000.0</td>\n",
       "      <td>98000000.0</td>\n",
       "    </tr>\n",
       "  </tbody>\n",
       "</table>\n",
       "</div>"
      ],
      "text/plain": [
       "                   2003_ex     2005_ex     2007_ex     2003_im      2005_im  \\\n",
       "country                                                                       \n",
       "Czech Republic  64000000.0  70000000.0  32000000.0  97000000.0  594000000.0   \n",
       "Bulgaria        44000000.0  86000000.0   9000000.0   2000000.0  132000000.0   \n",
       "Romania         24000000.0   3000000.0  32000000.0  17000000.0  437000000.0   \n",
       "\n",
       "                   2007_im  \n",
       "country                     \n",
       "Czech Republic  10000000.0  \n",
       "Bulgaria        48000000.0  \n",
       "Romania         98000000.0  "
      ]
     },
     "execution_count": 9,
     "metadata": {},
     "output_type": "execute_result"
    }
   ],
   "source": [
    "data_membros"
   ]
  },
  {
   "cell_type": "code",
   "execution_count": 18,
   "metadata": {},
   "outputs": [
    {
     "data": {
      "text/plain": [
       "array([[<matplotlib.axes._subplots.AxesSubplot object at 0x00000188B4200DD8>,\n",
       "        <matplotlib.axes._subplots.AxesSubplot object at 0x00000188B4225F98>],\n",
       "       [<matplotlib.axes._subplots.AxesSubplot object at 0x00000188B41BE240>,\n",
       "        <matplotlib.axes._subplots.AxesSubplot object at 0x00000188B3FA84E0>],\n",
       "       [<matplotlib.axes._subplots.AxesSubplot object at 0x00000188B3FD1A58>,\n",
       "        <matplotlib.axes._subplots.AxesSubplot object at 0x00000188B413CFD0>]],\n",
       "      dtype=object)"
      ]
     },
     "execution_count": 18,
     "metadata": {},
     "output_type": "execute_result"
    },
    {
     "data": {
      "image/png": "[encoded data removed]",
      "text/plain": [
       "<Figure size 432x288 with 6 Axes>"
      ]
     },
     "metadata": {
      "needs_background": "light"
     },
     "output_type": "display_data"
    }
   ],
   "source": [
    "data_membros.hist()"
   ]
  },
  {
   "cell_type": "code",
   "execution_count": 10,
   "metadata": {},
   "outputs": [
    {
     "data": {
      "text/html": [
       "<div>\n",
       "<style scoped>\n",
       "    .dataframe tbody tr th:only-of-type {\n",
       "        vertical-align: middle;\n",
       "    }\n",
       "\n",
       "    .dataframe tbody tr th {\n",
       "        vertical-align: top;\n",
       "    }\n",
       "\n",
       "    .dataframe thead th {\n",
       "        text-align: right;\n",
       "    }\n",
       "</style>\n",
       "<table border=\"1\" class=\"dataframe\">\n",
       "  <thead>\n",
       "    <tr style=\"text-align: right;\">\n",
       "      <th></th>\n",
       "      <th>2003_ex</th>\n",
       "      <th>2005_ex</th>\n",
       "      <th>2007_ex</th>\n",
       "      <th>2003_im</th>\n",
       "      <th>2005_im</th>\n",
       "      <th>2007_im</th>\n",
       "    </tr>\n",
       "    <tr>\n",
       "      <th>country</th>\n",
       "      <th></th>\n",
       "      <th></th>\n",
       "      <th></th>\n",
       "      <th></th>\n",
       "      <th></th>\n",
       "      <th></th>\n",
       "    </tr>\n",
       "  </thead>\n",
       "  <tbody>\n",
       "    <tr>\n",
       "      <th>Finland</th>\n",
       "      <td>40000000.0</td>\n",
       "      <td>51000000.0</td>\n",
       "      <td>77000000.0</td>\n",
       "      <td>227000000.0</td>\n",
       "      <td>107000000.0</td>\n",
       "      <td>108000000.0</td>\n",
       "    </tr>\n",
       "    <tr>\n",
       "      <th>Switzerland</th>\n",
       "      <td>184000000.0</td>\n",
       "      <td>252000000.0</td>\n",
       "      <td>301000000.0</td>\n",
       "      <td>117000000.0</td>\n",
       "      <td>168000000.0</td>\n",
       "      <td>108000000.0</td>\n",
       "    </tr>\n",
       "    <tr>\n",
       "      <th>Sweden</th>\n",
       "      <td>515000000.0</td>\n",
       "      <td>532000000.0</td>\n",
       "      <td>334000000.0</td>\n",
       "      <td>64000000.0</td>\n",
       "      <td>78000000.0</td>\n",
       "      <td>50000000.0</td>\n",
       "    </tr>\n",
       "  </tbody>\n",
       "</table>\n",
       "</div>"
      ],
      "text/plain": [
       "                 2003_ex      2005_ex      2007_ex      2003_im      2005_im  \\\n",
       "country                                                                        \n",
       "Finland       40000000.0   51000000.0   77000000.0  227000000.0  107000000.0   \n",
       "Switzerland  184000000.0  252000000.0  301000000.0  117000000.0  168000000.0   \n",
       "Sweden       515000000.0  532000000.0  334000000.0   64000000.0   78000000.0   \n",
       "\n",
       "                 2007_im  \n",
       "country                   \n",
       "Finland      108000000.0  \n",
       "Switzerland  108000000.0  \n",
       "Sweden        50000000.0  "
      ]
     },
     "execution_count": 10,
     "metadata": {},
     "output_type": "execute_result"
    }
   ],
   "source": [
    "data_controle"
   ]
  },
  {
   "cell_type": "code",
   "execution_count": 19,
   "metadata": {},
   "outputs": [
    {
     "data": {
      "text/plain": [
       "array([[<matplotlib.axes._subplots.AxesSubplot object at 0x00000188B403BE10>,\n",
       "        <matplotlib.axes._subplots.AxesSubplot object at 0x00000188B42EA2B0>],\n",
       "       [<matplotlib.axes._subplots.AxesSubplot object at 0x00000188B430D6A0>,\n",
       "        <matplotlib.axes._subplots.AxesSubplot object at 0x00000188B4334C18>],\n",
       "       [<matplotlib.axes._subplots.AxesSubplot object at 0x00000188B43641D0>,\n",
       "        <matplotlib.axes._subplots.AxesSubplot object at 0x00000188B438B748>]],\n",
       "      dtype=object)"
      ]
     },
     "execution_count": 19,
     "metadata": {},
     "output_type": "execute_result"
    },
    {
     "data": {
      "image/png": "[encoded data removed]",
      "text/plain": [
       "<Figure size 432x288 with 6 Axes>"
      ]
     },
     "metadata": {
      "needs_background": "light"
     },
     "output_type": "display_data"
    }
   ],
   "source": [
    "data_controle.hist()"
   ]
  },
  {
   "cell_type": "code",
   "execution_count": 21,
   "metadata": {},
   "outputs": [
    {
     "ename": "KeyError",
     "evalue": "'None of [[2003]] are in the [index]'",
     "output_type": "error",
     "traceback": [
      "\u001b[1;31m---------------------------------------------------------------------------\u001b[0m",
      "\u001b[1;31mKeyError\u001b[0m                                  Traceback (most recent call last)",
      "\u001b[1;32m<ipython-input-21-38ff4833f5ee>\u001b[0m in \u001b[0;36m<module>\u001b[1;34m\u001b[0m\n\u001b[1;32m----> 1\u001b[1;33m \u001b[0mplt\u001b[0m\u001b[1;33m.\u001b[0m\u001b[0mplot\u001b[0m\u001b[1;33m(\u001b[0m\u001b[0mdata_membros\u001b[0m\u001b[1;33m.\u001b[0m\u001b[0mloc\u001b[0m\u001b[1;33m[\u001b[0m\u001b[1;33m[\u001b[0m\u001b[1;36m2003\u001b[0m\u001b[1;33m]\u001b[0m\u001b[1;33m,\u001b[0m\u001b[1;33m:\u001b[0m\u001b[1;33m]\u001b[0m\u001b[1;33m)\u001b[0m\u001b[1;33m\u001b[0m\u001b[1;33m\u001b[0m\u001b[0m\n\u001b[0m",
      "\u001b[1;32mC:\\ProgramData\\Anaconda3\\lib\\site-packages\\pandas\\core\\indexing.py\u001b[0m in \u001b[0;36m__getitem__\u001b[1;34m(self, key)\u001b[0m\n\u001b[0;32m   1470\u001b[0m             \u001b[1;32mexcept\u001b[0m \u001b[1;33m(\u001b[0m\u001b[0mKeyError\u001b[0m\u001b[1;33m,\u001b[0m \u001b[0mIndexError\u001b[0m\u001b[1;33m)\u001b[0m\u001b[1;33m:\u001b[0m\u001b[1;33m\u001b[0m\u001b[1;33m\u001b[0m\u001b[0m\n\u001b[0;32m   1471\u001b[0m                 \u001b[1;32mpass\u001b[0m\u001b[1;33m\u001b[0m\u001b[1;33m\u001b[0m\u001b[0m\n\u001b[1;32m-> 1472\u001b[1;33m             \u001b[1;32mreturn\u001b[0m \u001b[0mself\u001b[0m\u001b[1;33m.\u001b[0m\u001b[0m_getitem_tuple\u001b[0m\u001b[1;33m(\u001b[0m\u001b[0mkey\u001b[0m\u001b[1;33m)\u001b[0m\u001b[1;33m\u001b[0m\u001b[1;33m\u001b[0m\u001b[0m\n\u001b[0m\u001b[0;32m   1473\u001b[0m         \u001b[1;32melse\u001b[0m\u001b[1;33m:\u001b[0m\u001b[1;33m\u001b[0m\u001b[1;33m\u001b[0m\u001b[0m\n\u001b[0;32m   1474\u001b[0m             \u001b[1;31m# we by definition only have the 0th axis\u001b[0m\u001b[1;33m\u001b[0m\u001b[1;33m\u001b[0m\u001b[1;33m\u001b[0m\u001b[0m\n",
      "\u001b[1;32mC:\\ProgramData\\Anaconda3\\lib\\site-packages\\pandas\\core\\indexing.py\u001b[0m in \u001b[0;36m_getitem_tuple\u001b[1;34m(self, tup)\u001b[0m\n\u001b[0;32m    888\u001b[0m                 \u001b[1;32mcontinue\u001b[0m\u001b[1;33m\u001b[0m\u001b[1;33m\u001b[0m\u001b[0m\n\u001b[0;32m    889\u001b[0m \u001b[1;33m\u001b[0m\u001b[0m\n\u001b[1;32m--> 890\u001b[1;33m             \u001b[0mretval\u001b[0m \u001b[1;33m=\u001b[0m \u001b[0mgetattr\u001b[0m\u001b[1;33m(\u001b[0m\u001b[0mretval\u001b[0m\u001b[1;33m,\u001b[0m \u001b[0mself\u001b[0m\u001b[1;33m.\u001b[0m\u001b[0mname\u001b[0m\u001b[1;33m)\u001b[0m\u001b[1;33m.\u001b[0m\u001b[0m_getitem_axis\u001b[0m\u001b[1;33m(\u001b[0m\u001b[0mkey\u001b[0m\u001b[1;33m,\u001b[0m \u001b[0maxis\u001b[0m\u001b[1;33m=\u001b[0m\u001b[0mi\u001b[0m\u001b[1;33m)\u001b[0m\u001b[1;33m\u001b[0m\u001b[1;33m\u001b[0m\u001b[0m\n\u001b[0m\u001b[0;32m    891\u001b[0m \u001b[1;33m\u001b[0m\u001b[0m\n\u001b[0;32m    892\u001b[0m         \u001b[1;32mreturn\u001b[0m \u001b[0mretval\u001b[0m\u001b[1;33m\u001b[0m\u001b[1;33m\u001b[0m\u001b[0m\n",
      "\u001b[1;32mC:\\ProgramData\\Anaconda3\\lib\\site-packages\\pandas\\core\\indexing.py\u001b[0m in \u001b[0;36m_getitem_axis\u001b[1;34m(self, key, axis)\u001b[0m\n\u001b[0;32m   1899\u001b[0m                     \u001b[1;32mraise\u001b[0m \u001b[0mValueError\u001b[0m\u001b[1;33m(\u001b[0m\u001b[1;34m'Cannot index with multidimensional key'\u001b[0m\u001b[1;33m)\u001b[0m\u001b[1;33m\u001b[0m\u001b[1;33m\u001b[0m\u001b[0m\n\u001b[0;32m   1900\u001b[0m \u001b[1;33m\u001b[0m\u001b[0m\n\u001b[1;32m-> 1901\u001b[1;33m                 \u001b[1;32mreturn\u001b[0m \u001b[0mself\u001b[0m\u001b[1;33m.\u001b[0m\u001b[0m_getitem_iterable\u001b[0m\u001b[1;33m(\u001b[0m\u001b[0mkey\u001b[0m\u001b[1;33m,\u001b[0m \u001b[0maxis\u001b[0m\u001b[1;33m=\u001b[0m\u001b[0maxis\u001b[0m\u001b[1;33m)\u001b[0m\u001b[1;33m\u001b[0m\u001b[1;33m\u001b[0m\u001b[0m\n\u001b[0m\u001b[0;32m   1902\u001b[0m \u001b[1;33m\u001b[0m\u001b[0m\n\u001b[0;32m   1903\u001b[0m             \u001b[1;31m# nested tuple slicing\u001b[0m\u001b[1;33m\u001b[0m\u001b[1;33m\u001b[0m\u001b[1;33m\u001b[0m\u001b[0m\n",
      "\u001b[1;32mC:\\ProgramData\\Anaconda3\\lib\\site-packages\\pandas\\core\\indexing.py\u001b[0m in \u001b[0;36m_getitem_iterable\u001b[1;34m(self, key, axis)\u001b[0m\n\u001b[0;32m   1141\u001b[0m             \u001b[1;32mif\u001b[0m \u001b[0mlabels\u001b[0m\u001b[1;33m.\u001b[0m\u001b[0mis_unique\u001b[0m \u001b[1;32mand\u001b[0m \u001b[0mIndex\u001b[0m\u001b[1;33m(\u001b[0m\u001b[0mkeyarr\u001b[0m\u001b[1;33m)\u001b[0m\u001b[1;33m.\u001b[0m\u001b[0mis_unique\u001b[0m\u001b[1;33m:\u001b[0m\u001b[1;33m\u001b[0m\u001b[1;33m\u001b[0m\u001b[0m\n\u001b[0;32m   1142\u001b[0m                 \u001b[0mindexer\u001b[0m \u001b[1;33m=\u001b[0m \u001b[0max\u001b[0m\u001b[1;33m.\u001b[0m\u001b[0mget_indexer_for\u001b[0m\u001b[1;33m(\u001b[0m\u001b[0mkey\u001b[0m\u001b[1;33m)\u001b[0m\u001b[1;33m\u001b[0m\u001b[1;33m\u001b[0m\u001b[0m\n\u001b[1;32m-> 1143\u001b[1;33m                 \u001b[0mself\u001b[0m\u001b[1;33m.\u001b[0m\u001b[0m_validate_read_indexer\u001b[0m\u001b[1;33m(\u001b[0m\u001b[0mkey\u001b[0m\u001b[1;33m,\u001b[0m \u001b[0mindexer\u001b[0m\u001b[1;33m,\u001b[0m \u001b[0maxis\u001b[0m\u001b[1;33m)\u001b[0m\u001b[1;33m\u001b[0m\u001b[1;33m\u001b[0m\u001b[0m\n\u001b[0m\u001b[0;32m   1144\u001b[0m \u001b[1;33m\u001b[0m\u001b[0m\n\u001b[0;32m   1145\u001b[0m                 \u001b[0md\u001b[0m \u001b[1;33m=\u001b[0m \u001b[1;33m{\u001b[0m\u001b[0maxis\u001b[0m\u001b[1;33m:\u001b[0m \u001b[1;33m[\u001b[0m\u001b[0max\u001b[0m\u001b[1;33m.\u001b[0m\u001b[0mreindex\u001b[0m\u001b[1;33m(\u001b[0m\u001b[0mkeyarr\u001b[0m\u001b[1;33m)\u001b[0m\u001b[1;33m[\u001b[0m\u001b[1;36m0\u001b[0m\u001b[1;33m]\u001b[0m\u001b[1;33m,\u001b[0m \u001b[0mindexer\u001b[0m\u001b[1;33m]\u001b[0m\u001b[1;33m}\u001b[0m\u001b[1;33m\u001b[0m\u001b[1;33m\u001b[0m\u001b[0m\n",
      "\u001b[1;32mC:\\ProgramData\\Anaconda3\\lib\\site-packages\\pandas\\core\\indexing.py\u001b[0m in \u001b[0;36m_validate_read_indexer\u001b[1;34m(self, key, indexer, axis)\u001b[0m\n\u001b[0;32m   1204\u001b[0m                 raise KeyError(\n\u001b[0;32m   1205\u001b[0m                     u\"None of [{key}] are in the [{axis}]\".format(\n\u001b[1;32m-> 1206\u001b[1;33m                         key=key, axis=self.obj._get_axis_name(axis)))\n\u001b[0m\u001b[0;32m   1207\u001b[0m \u001b[1;33m\u001b[0m\u001b[0m\n\u001b[0;32m   1208\u001b[0m             \u001b[1;31m# we skip the warning on Categorical/Interval\u001b[0m\u001b[1;33m\u001b[0m\u001b[1;33m\u001b[0m\u001b[1;33m\u001b[0m\u001b[0m\n",
      "\u001b[1;31mKeyError\u001b[0m: 'None of [[2003]] are in the [index]'"
     ]
    }
   ],
   "source": [
    "plt.plot(data_membros.loc[[2003],:])"
   ]
  },
  {
   "cell_type": "code",
   "execution_count": 14,
   "metadata": {},
   "outputs": [
    {
     "data": {
      "text/plain": [
       "<matplotlib.legend.Legend at 0x188b3631d30>"
      ]
     },
     "execution_count": 14,
     "metadata": {},
     "output_type": "execute_result"
    },
    {
     "data": {
      "image/png": "[encoded data removed]",
      "text/plain": [
       "<Figure size 432x288 with 1 Axes>"
      ]
     },
     "metadata": {
      "needs_background": "light"
     },
     "output_type": "display_data"
    }
   ],
   "source": [
    "\n",
    "plt.scatter(data_membros['2003_ex'], data_membros['2003_im'], marker='o')\n",
    "plt.scatter(data_controle['2003_im'], data_controle['2003_im'],marker='^')\n",
    "plt.xlabel('Exportação(USD)')\n",
    "plt.ylabel('Importação(USD)')\n",
    "plt.title('Importação X Importação em 2003')\n",
    "plt.legend(('Países membros da OTAN','Países controle'),loc='center right', bbox_to_anchor=(1,0.9))\n",
    "\n",
    "\n"
   ]
  },
  {
   "cell_type": "code",
   "execution_count": 15,
   "metadata": {},
   "outputs": [
    {
     "data": {
      "text/plain": [
       "<matplotlib.legend.Legend at 0x188b36ef5f8>"
      ]
     },
     "execution_count": 15,
     "metadata": {},
     "output_type": "execute_result"
    },
    {
     "data": {
      "image/png": "[encoded data removed]",
      "text/plain": [
       "<Figure size 432x288 with 1 Axes>"
      ]
     },
     "metadata": {
      "needs_background": "light"
     },
     "output_type": "display_data"
    }
   ],
   "source": [
    "plt.scatter(data_membros['2005_ex'], data_membros['2005_im'], marker='o')\n",
    "plt.scatter(data_controle['2005_im'], data_controle['2005_im'],marker='^')\n",
    "plt.xlabel('Exportação(USD)')\n",
    "plt.ylabel('Importação(USD)')\n",
    "plt.title('Importação X Importação em 2005')\n",
    "plt.legend(('Países membros da OTAN','Países controle'),loc='center right', bbox_to_anchor=(1,0.9))\n",
    "\n"
   ]
  },
  {
   "cell_type": "code",
   "execution_count": 16,
   "metadata": {},
   "outputs": [
    {
     "data": {
      "text/plain": [
       "<matplotlib.legend.Legend at 0x188b399b6a0>"
      ]
     },
     "execution_count": 16,
     "metadata": {},
     "output_type": "execute_result"
    },
    {
     "data": {
      "image/png": "[encoded data removed]",
      "text/plain": [
       "<Figure size 432x288 with 1 Axes>"
      ]
     },
     "metadata": {
      "needs_background": "light"
     },
     "output_type": "display_data"
    }
   ],
   "source": [
    "plt.scatter(data_membros['2007_ex'], data_membros['2007_im'], marker='o')\n",
    "plt.scatter(data_controle['2007_im'], data_controle['2007_im'],marker='^')\n",
    "plt.xlabel('Exportação(USD)')\n",
    "plt.ylabel('Importação(USD)')\n",
    "plt.title('Importação X Importação em 2007')\n",
    "plt.legend(('Países membros da OTAN','Países controle'),loc='center right', bbox_to_anchor=(1,0.9))\n"
   ]
  },
  {
   "cell_type": "markdown",
   "metadata": {},
   "source": [
    "## Conclusão"
   ]
  }
 ],
 "metadata": {
  "kernelspec": {
   "display_name": "Python 3",
   "language": "python",
   "name": "python3"
  },
  "language_info": {
   "codemirror_mode": {
    "name": "ipython",
    "version": 3
   },
   "file_extension": ".py",
   "mimetype": "text/x-python",
   "name": "python",
   "nbconvert_exporter": "python",
   "pygments_lexer": "ipython3",
   "version": "3.7.1"
  }
 },
 "nbformat": 4,
 "nbformat_minor": 2
}
